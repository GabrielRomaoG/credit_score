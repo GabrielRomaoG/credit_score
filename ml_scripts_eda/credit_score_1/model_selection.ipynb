{
 "cells": [
  {
   "cell_type": "code",
   "execution_count": 10,
   "metadata": {},
   "outputs": [],
   "source": [
    "import pandas as pd\n",
    "import numpy as np"
   ]
  },
  {
   "cell_type": "code",
   "execution_count": 11,
   "metadata": {},
   "outputs": [],
   "source": [
    "from sklearn.compose import ColumnTransformer\n",
    "from sklearn.ensemble import HistGradientBoostingClassifier\n",
    "from sklearn.feature_selection import RFE\n",
    "from sklearn.pipeline import Pipeline\n",
    "from sklearn.preprocessing import OneHotEncoder\n",
    "from sklearn.linear_model import LogisticRegression\n",
    "from sklearn.model_selection import GridSearchCV, ShuffleSplit, cross_val_score, cross_validate\n",
    "from sklearn.discriminant_analysis import StandardScaler\n",
    "from sklearn.neighbors import KNeighborsClassifier"
   ]
  },
  {
   "cell_type": "code",
   "execution_count": 12,
   "metadata": {},
   "outputs": [],
   "source": [
    "from credit_score_1.cs1_preprocessing import Cs1DataSetPreProcessing\n",
    "\n"
   ]
  },
  {
   "cell_type": "code",
   "execution_count": 13,
   "metadata": {},
   "outputs": [
    {
     "data": {
      "text/plain": [
       "array(['high', 'average', 'low'], dtype=object)"
      ]
     },
     "execution_count": 13,
     "metadata": {},
     "output_type": "execute_result"
    }
   ],
   "source": [
    "credit_df = pd.read_csv(\"credit_score_dataset_1.csv\")\n",
    "\n",
    "credit_df = Cs1DataSetPreProcessing.process(credit_df)\n",
    "\n",
    "\n",
    "y = credit_df[\"credit_score\"]\n",
    "X = credit_df.drop(\"credit_score\", axis=1)\n",
    "\n",
    "y.unique()"
   ]
  },
  {
   "cell_type": "markdown",
   "metadata": {},
   "source": [
    "# Processing"
   ]
  },
  {
   "cell_type": "markdown",
   "metadata": {},
   "source": [
    "## OneHotEnconding"
   ]
  },
  {
   "cell_type": "code",
   "execution_count": 14,
   "metadata": {},
   "outputs": [],
   "source": [
    "categorical_cols = X.select_dtypes(\"object\").columns\n",
    "\n",
    "col_trans = ColumnTransformer(\n",
    "    [\n",
    "        (\"ohe\", OneHotEncoder(), categorical_cols),\n",
    "    ],\n",
    "    remainder=\"passthrough\",\n",
    "    verbose_feature_names_out=False,\n",
    ")\n"
   ]
  },
  {
   "cell_type": "markdown",
   "metadata": {},
   "source": [
    "## Standard Scaler"
   ]
  },
  {
   "cell_type": "code",
   "execution_count": 15,
   "metadata": {},
   "outputs": [],
   "source": [
    "scaler = StandardScaler()"
   ]
  },
  {
   "cell_type": "markdown",
   "metadata": {},
   "source": [
    "## RFE"
   ]
  },
  {
   "cell_type": "code",
   "execution_count": 16,
   "metadata": {},
   "outputs": [],
   "source": [
    "rfe = RFE(LogisticRegression(), step=1)"
   ]
  },
  {
   "cell_type": "markdown",
   "metadata": {},
   "source": [
    "# Models"
   ]
  },
  {
   "cell_type": "markdown",
   "metadata": {},
   "source": [
    "## Logistic Regression"
   ]
  },
  {
   "cell_type": "code",
   "execution_count": 17,
   "metadata": {},
   "outputs": [
    {
     "name": "stdout",
     "output_type": "stream",
     "text": [
      "Fitting 5 folds for each of 150 candidates, totalling 750 fits\n",
      "accuracy: [0.96969697]\n",
      "accuracy: {'logreg__C': np.float64(2.277777777777778), 'logreg__l1_ratio': np.float64(1.0), 'rfe__n_features_to_select': 7}\n"
     ]
    }
   ],
   "source": [
    "logreg = LogisticRegression(dual=False, max_iter=10000, penalty=\"elasticnet\", solver=\"saga\")\n",
    "\n",
    "logreg_pipe = Pipeline(\n",
    "    [\n",
    "        (\"cols_trans\", col_trans),\n",
    "        (\"scaler\", scaler),\n",
    "        (\"rfe\", rfe),\n",
    "        (\"logreg\", logreg)\n",
    "    ]\n",
    ")\n",
    "\n",
    "param_grid = {\n",
    "    \"rfe__n_features_to_select\": [6, 7, 8],\n",
    "    \"logreg__C\": np.linspace(0.1, 5, 10),\n",
    "    \"logreg__l1_ratio\": np.linspace(0, 1, 5),\n",
    "}\n",
    "\n",
    "grid_search_logreg = GridSearchCV(\n",
    "    logreg_pipe, param_grid, cv=5, scoring=\"accuracy\", n_jobs=-1, verbose=1\n",
    ")\n",
    "\n",
    "\n",
    "outer_valid = ShuffleSplit(n_splits=1, test_size=0.20, random_state=2)\n",
    "\n",
    "results_logreg = cross_validate(\n",
    "    estimator=grid_search_logreg,\n",
    "    X=X,\n",
    "    y=y,\n",
    "    cv=outer_valid,\n",
    "    return_estimator=True\n",
    ")\n",
    "\n",
    "print(f\"accuracy: {results_logreg['test_score']}\")\n",
    "print(f\"accuracy: {results_logreg['estimator'][0].best_params_}\")\n"
   ]
  },
  {
   "cell_type": "code",
   "execution_count": 18,
   "metadata": {},
   "outputs": [
    {
     "data": {
      "text/plain": [
       "array(['gender_female', 'gender_male', 'education_associates_degree',\n",
       "       'education_high_school_diploma', 'education_masters_degree', 'age',\n",
       "       'income'], dtype=object)"
      ]
     },
     "execution_count": 18,
     "metadata": {},
     "output_type": "execute_result"
    }
   ],
   "source": [
    "mask_features = results_logreg[\"estimator\"][0].best_estimator_.named_steps[\"rfe\"].get_support()\n",
    "cols = results_logreg[\"estimator\"][0].best_estimator_.named_steps[\"cols_trans\"].get_feature_names_out()\n",
    "\n",
    "cols[mask_features]"
   ]
  },
  {
   "cell_type": "markdown",
   "metadata": {},
   "source": [
    "## K-nearest neighbors"
   ]
  },
  {
   "cell_type": "code",
   "execution_count": 19,
   "metadata": {},
   "outputs": [
    {
     "name": "stdout",
     "output_type": "stream",
     "text": [
      "0.9753787878787878\n"
     ]
    }
   ],
   "source": [
    "knn = KNeighborsClassifier(n_neighbors=3)\n",
    "\n",
    "knn_pipe = Pipeline(\n",
    "    [\n",
    "        (\"cols_trans\", col_trans),\n",
    "        (\"scaler\", scaler),\n",
    "        (\"clf\", knn)\n",
    "    ]\n",
    ")\n",
    "cv_score = cross_val_score(knn_pipe, X, y, cv=5, scoring=\"accuracy\")\n",
    "\n",
    "print(cv_score.mean())"
   ]
  },
  {
   "cell_type": "markdown",
   "metadata": {},
   "source": [
    "## HistGradientBoostingClassifier\n"
   ]
  },
  {
   "cell_type": "code",
   "execution_count": 20,
   "metadata": {},
   "outputs": [
    {
     "name": "stdout",
     "output_type": "stream",
     "text": [
      "Fitting 5 folds for each of 144 candidates, totalling 720 fits\n",
      "accuracy: [0.97560976]\n"
     ]
    }
   ],
   "source": [
    "hgbc = HistGradientBoostingClassifier(categorical_features=categorical_cols)\n",
    "\n",
    "param_grid = {\n",
    "    \"clf__learning_rate\": [0.1, 0.2, 0.3],\n",
    "    \"clf__max_iter\": [\n",
    "        50,\n",
    "        100,\n",
    "        200,\n",
    "    ],\n",
    "    \"clf__max_leaf_nodes\": [5, 10, 15, 31],\n",
    "    \"clf__min_samples_leaf\": [2, 5, 10, 20],\n",
    "}\n",
    "hgbc_pipe = Pipeline([(\"clf\", hgbc)])\n",
    "\n",
    "grid_search = GridSearchCV(\n",
    "    hgbc_pipe, param_grid, cv=5, scoring=\"accuracy\", n_jobs=-1, verbose=1\n",
    ")\n",
    "\n",
    "outer_valid = ShuffleSplit(n_splits=1, test_size=0.25, random_state=2)\n",
    "\n",
    "results = cross_val_score(\n",
    "    estimator=grid_search,\n",
    "    X=X,\n",
    "    y=y,\n",
    "    cv=outer_valid\n",
    ")\n",
    "\n",
    "print(f\"accuracy: {results}\")"
   ]
  },
  {
   "cell_type": "markdown",
   "metadata": {},
   "source": [
    "# Results"
   ]
  },
  {
   "cell_type": "markdown",
   "metadata": {},
   "source": [
    "The HistGradientBoostingClassifier seems to be slightly better than the other models in terms of accuracy, but since it's not a meaningful improvement, I chose the Logistic Regression because it's parametric and thus easier to interpret."
   ]
  }
 ],
 "metadata": {
  "kernelspec": {
   "display_name": ".venv",
   "language": "python",
   "name": "python3"
  },
  "language_info": {
   "codemirror_mode": {
    "name": "ipython",
    "version": 3
   },
   "file_extension": ".py",
   "mimetype": "text/x-python",
   "name": "python",
   "nbconvert_exporter": "python",
   "pygments_lexer": "ipython3",
   "version": "3.11.0"
  }
 },
 "nbformat": 4,
 "nbformat_minor": 2
}
